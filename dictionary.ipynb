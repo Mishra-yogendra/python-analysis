{
 "cells": [
  {
   "cell_type": "code",
   "execution_count": 1,
   "metadata": {},
   "outputs": [
    {
     "name": "stdout",
     "output_type": "stream",
     "text": [
      "{'name': 'john cena', 'class': '2nd', 'rollno': 21, 'marks': 90}\n"
     ]
    }
   ],
   "source": [
    "student={\n",
    "    'name':'john cena',\n",
    "    'class':'2nd',\n",
    "    'rollno':21,\n",
    "    'marks':90\n",
    "    }\n",
    "print(student)"
   ]
  },
  {
   "cell_type": "code",
   "execution_count": 2,
   "metadata": {},
   "outputs": [
    {
     "name": "stdout",
     "output_type": "stream",
     "text": [
      "john cena\n",
      "2nd\n"
     ]
    }
   ],
   "source": [
    "print(student['name'])\n",
    "print(student['class'])"
   ]
  },
  {
   "cell_type": "code",
   "execution_count": 3,
   "metadata": {},
   "outputs": [
    {
     "name": "stdout",
     "output_type": "stream",
     "text": [
      "john cena\n",
      "2nd\n",
      "None\n"
     ]
    }
   ],
   "source": [
    "print(student.get('name'))\n",
    "print(student.get('class'))\n",
    "print(student.get('english'))"
   ]
  },
  {
   "cell_type": "code",
   "execution_count": 4,
   "metadata": {},
   "outputs": [
    {
     "name": "stdout",
     "output_type": "stream",
     "text": [
      "{'name': 'john cena', 'class': '2nd', 'rollno': 21, 'marks': 90, 'school': 'cms', 'father': 'raja babu'}\n"
     ]
    }
   ],
   "source": [
    "student['school'] = 'cms'\n",
    "student['father'] = 'raja babu'\n",
    "print(student)"
   ]
  },
  {
   "cell_type": "code",
   "execution_count": 5,
   "metadata": {},
   "outputs": [
    {
     "name": "stdout",
     "output_type": "stream",
     "text": [
      "{'name': 'john cena', 'class': '3rd class', 'rollno': 21, 'marks': 90, 'school': 'cms', 'father': 'raja babu'}\n"
     ]
    }
   ],
   "source": [
    "student['class']='3rd class'\n",
    "print(student)"
   ]
  },
  {
   "cell_type": "code",
   "execution_count": 6,
   "metadata": {},
   "outputs": [],
   "source": [
    "series = {\n",
    "    'tittle':'person of interest',\n",
    "    'total_seasons':5,\n",
    "    'cast':['jim caviezel','others'],\n",
    "    'ott':'Amazon Prime',\n",
    "    'rating':9.8\n",
    "}"
   ]
  },
  {
   "cell_type": "code",
   "execution_count": 8,
   "metadata": {},
   "outputs": [
    {
     "name": "stdout",
     "output_type": "stream",
     "text": [
      "tittle\n",
      "total_seasons\n",
      "cast\n",
      "ott\n",
      "rating\n"
     ]
    }
   ],
   "source": [
    "for key in series:\n",
    "    print(key)"
   ]
  },
  {
   "cell_type": "code",
   "execution_count": 9,
   "metadata": {},
   "outputs": [
    {
     "name": "stdout",
     "output_type": "stream",
     "text": [
      "tittle person of interest\n",
      "total_seasons 5\n",
      "cast ['jim caviezel', 'others']\n",
      "ott Amazon Prime\n",
      "rating 9.8\n"
     ]
    }
   ],
   "source": [
    "for key in series:\n",
    "    print(key,series[key])"
   ]
  },
  {
   "cell_type": "code",
   "execution_count": 10,
   "metadata": {},
   "outputs": [
    {
     "name": "stdout",
     "output_type": "stream",
     "text": [
      "tittle person of interest\n",
      "total_seasons 5\n",
      "cast ['jim caviezel', 'others']\n",
      "ott Amazon Prime\n",
      "rating 9.8\n"
     ]
    }
   ],
   "source": [
    "for k,v in series.items():\n",
    "    print(k,v)"
   ]
  },
  {
   "cell_type": "code",
   "execution_count": null,
   "metadata": {},
   "outputs": [],
   "source": []
  }
 ],
 "metadata": {
  "kernelspec": {
   "display_name": "base",
   "language": "python",
   "name": "python3"
  },
  "language_info": {
   "codemirror_mode": {
    "name": "ipython",
    "version": 3
   },
   "file_extension": ".py",
   "mimetype": "text/x-python",
   "name": "python",
   "nbconvert_exporter": "python",
   "pygments_lexer": "ipython3",
   "version": "3.10.8"
  },
  "orig_nbformat": 4
 },
 "nbformat": 4,
 "nbformat_minor": 2
}
