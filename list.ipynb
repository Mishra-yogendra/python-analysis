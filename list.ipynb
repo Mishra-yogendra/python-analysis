{
 "cells": [
  {
   "attachments": {},
   "cell_type": "markdown",
   "metadata": {},
   "source": [
    "# data structure\n",
    "\n",
    "\n",
    "-list\n",
    "\n",
    "     -ordered,indexed,mutable,duplicate allowed, '[ ]'\n",
    "\n",
    "\n",
    "\n",
    "-tuple\n",
    "\n",
    "    -ordered,indexed,**immutable** ,duplicate allwed'( )'\n",
    "\n",
    "\n",
    "-set\n",
    "\n",
    "    -unordered,unindexed,mutable,**only unique elements**, '{ }'\n",
    "\n",
    "    \n",
    "-dictionary\n",
    "\n",
    "    -ordered,unindexed,mutable,**key:value pairs**,duplicates values allowed, '{ }'"
   ]
  },
  {
   "cell_type": "code",
   "execution_count": 3,
   "metadata": {},
   "outputs": [
    {
     "name": "stdout",
     "output_type": "stream",
     "text": [
      "[]\n",
      "[2, 5, 8, 9, 3]\n",
      "['a', 'b', 'c', 'd']\n",
      "[1, 'a', 2, 'b', 3, 'c']\n",
      "[1, 2, [3, 4]]\n"
     ]
    }
   ],
   "source": [
    "x =[] \n",
    "print(x)\n",
    "\n",
    "y = [2,5,8,9,3]\n",
    "print(y)\n",
    "\n",
    "z = ['a','b','c','d']\n",
    "print(z)\n",
    "\n",
    "w = [1,'a',2,'b',3,'c']\n",
    "print(w)\n",
    "\n",
    "v = [1,2,[3,4]]\n",
    "print(v)"
   ]
  },
  {
   "cell_type": "code",
   "execution_count": 4,
   "metadata": {},
   "outputs": [
    {
     "name": "stdout",
     "output_type": "stream",
     "text": [
      "[100]\n"
     ]
    }
   ],
   "source": [
    "x.append(100)\n",
    "print(x)"
   ]
  },
  {
   "cell_type": "code",
   "execution_count": 5,
   "metadata": {},
   "outputs": [
    {
     "name": "stdout",
     "output_type": "stream",
     "text": [
      "[2, 5, 8, 9, 3, 500]\n"
     ]
    }
   ],
   "source": [
    "y.append(500)\n",
    "print(y)"
   ]
  },
  {
   "cell_type": "code",
   "execution_count": 6,
   "metadata": {},
   "outputs": [
    {
     "name": "stdout",
     "output_type": "stream",
     "text": [
      "[2, 5, 8, 9, 3]\n"
     ]
    }
   ],
   "source": [
    "y.pop()\n",
    "print(y)"
   ]
  },
  {
   "cell_type": "code",
   "execution_count": 7,
   "metadata": {},
   "outputs": [
    {
     "name": "stdout",
     "output_type": "stream",
     "text": [
      "[2, 5, 50, 8, 9, 3]\n"
     ]
    }
   ],
   "source": [
    "y.insert(2,50)\n",
    "print(y)"
   ]
  },
  {
   "cell_type": "code",
   "execution_count": 8,
   "metadata": {},
   "outputs": [
    {
     "name": "stdout",
     "output_type": "stream",
     "text": [
      "[100, 2, 5, 50, 8, 9, 3]\n"
     ]
    }
   ],
   "source": [
    "x.extend(y)\n",
    "print(x)"
   ]
  },
  {
   "cell_type": "code",
   "execution_count": 9,
   "metadata": {},
   "outputs": [
    {
     "name": "stdout",
     "output_type": "stream",
     "text": [
      "[3, 9, 8, 50, 5, 2]\n"
     ]
    }
   ],
   "source": [
    "y.reverse()\n",
    "print(y)"
   ]
  },
  {
   "cell_type": "code",
   "execution_count": 10,
   "metadata": {},
   "outputs": [
    {
     "name": "stdout",
     "output_type": "stream",
     "text": [
      "[2, 3, 5, 8, 9, 50]\n"
     ]
    }
   ],
   "source": [
    "y.sort()\n",
    "print(y)"
   ]
  },
  {
   "cell_type": "code",
   "execution_count": null,
   "metadata": {},
   "outputs": [],
   "source": []
  }
 ],
 "metadata": {
  "kernelspec": {
   "display_name": "base",
   "language": "python",
   "name": "python3"
  },
  "language_info": {
   "codemirror_mode": {
    "name": "ipython",
    "version": 3
   },
   "file_extension": ".py",
   "mimetype": "text/x-python",
   "name": "python",
   "nbconvert_exporter": "python",
   "pygments_lexer": "ipython3",
   "version": "3.10.8"
  },
  "orig_nbformat": 4,
  "vscode": {
   "interpreter": {
    "hash": "193aa6218da7f76a59dc2bd6ea87d2b224c2417ad29cdf12ab4b4772313a8948"
   }
  }
 },
 "nbformat": 4,
 "nbformat_minor": 2
}
