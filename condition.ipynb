{
 "cells": [
  {
   "attachments": {},
   "cell_type": "markdown",
   "metadata": {},
   "source": [
    "#condition"
   ]
  },
  {
   "cell_type": "code",
   "execution_count": 11,
   "metadata": {},
   "outputs": [
    {
     "ename": "ValueError",
     "evalue": "invalid literal for int() with base 10: 'yogendra mishra'",
     "output_type": "error",
     "traceback": [
      "\u001b[1;31m---------------------------------------------------------------------------\u001b[0m",
      "\u001b[1;31mValueError\u001b[0m                                Traceback (most recent call last)",
      "Cell \u001b[1;32mIn[11], line 1\u001b[0m\n\u001b[1;32m----> 1\u001b[0m count \u001b[39m=\u001b[39m \u001b[39mint\u001b[39;49m(\u001b[39minput\u001b[39;49m(\u001b[39m\"\u001b[39;49m\u001b[39menter a value:\u001b[39;49m\u001b[39m\"\u001b[39;49m))\n\u001b[0;32m      2\u001b[0m \u001b[39mif\u001b[39;00m count \u001b[39m>\u001b[39m \u001b[39m5\u001b[39m:\n\u001b[0;32m      3\u001b[0m     \u001b[39mprint\u001b[39m(\u001b[39m\"\u001b[39m\u001b[39myou are going to run this part\u001b[39m\u001b[39m\"\u001b[39m)\n",
      "\u001b[1;31mValueError\u001b[0m: invalid literal for int() with base 10: 'yogendra mishra'"
     ]
    }
   ],
   "source": [
    "count = int(input(\"enter a value:\"))\n",
    "if count > 5:\n",
    "    print(\"you are going to run this part\")\n",
    "if count > 15:\n",
    "    print(\"you are going to see this also\")\n",
    "if count%2 == 0:\n",
    "    print(\"count is even\")"
   ]
  },
  {
   "attachments": {},
   "cell_type": "markdown",
   "metadata": {},
   "source": []
  },
  {
   "cell_type": "code",
   "execution_count": null,
   "metadata": {},
   "outputs": [
    {
     "name": "stdout",
     "output_type": "stream",
     "text": [
      "b=20 is greater\n"
     ]
    }
   ],
   "source": [
    "a = 10\n",
    "b = 20\n",
    "c = 15\n",
    "if a>b and a>c:\n",
    "    print(f'{a=} is greater')\n",
    "if b>a and b>c:\n",
    "    print(f'{b=} is greater')\n",
    "if c>a and c>b:\n",
    "    print(f'{c=} is greater')\n"
   ]
  },
  {
   "cell_type": "markdown",
   "metadata": {},
   "source": []
  },
  {
   "cell_type": "code",
   "execution_count": null,
   "metadata": {},
   "outputs": [
    {
     "name": "stdout",
     "output_type": "stream",
     "text": [
      "b=20 is greater\n"
     ]
    }
   ],
   "source": [
    "if a>b and a>c:\n",
    "    print(f'{a=} is greater')\n",
    "elif b>c and b>a:\n",
    "    print(f'{b=} is greater')\n",
    "else:\n",
    "    print(f'{c=} is greater')"
   ]
  },
  {
   "cell_type": "code",
   "execution_count": 12,
   "metadata": {},
   "outputs": [
    {
     "name": "stdout",
     "output_type": "stream",
     "text": [
      "email is invalid 😒🤢\n"
     ]
    }
   ],
   "source": [
    "username = input(\"enter your name\")\n",
    "email = input(\"enter your email\")\n",
    "pwd = input(\"enter your password\")\n",
    "pwd2 = input(\"confirm your password\")\n",
    "if len(username) >= 4 and len(username) <= 15:\n",
    "    if'@'in email and email.islower() and len(email) > 10:\n",
    "        if len(pwd) >= 6 and pwd != username:\n",
    "            if pwd == pwd2:\n",
    "                \n",
    "                print(\"hurray ✌✌❤\")\n",
    "            else:\n",
    "                print(\"passwords do not match 😢😒\")\n",
    "        else:\n",
    "            print(\"password is invalid 🤢🤔\")\n",
    "    else:\n",
    "        print(\"email is invalid 😒🤢\")\n",
    "else:\n",
    "    print(\"username is invalid 😢😢\")"
   ]
  },
  {
   "cell_type": "code",
   "execution_count": null,
   "metadata": {},
   "outputs": [],
   "source": []
  }
 ],
 "metadata": {
  "kernelspec": {
   "display_name": "base",
   "language": "python",
   "name": "python3"
  },
  "language_info": {
   "codemirror_mode": {
    "name": "ipython",
    "version": 3
   },
   "file_extension": ".py",
   "mimetype": "text/x-python",
   "name": "python",
   "nbconvert_exporter": "python",
   "pygments_lexer": "ipython3",
   "version": "3.10.8"
  },
  "orig_nbformat": 4,
  "vscode": {
   "interpreter": {
    "hash": "193aa6218da7f76a59dc2bd6ea87d2b224c2417ad29cdf12ab4b4772313a8948"
   }
  }
 },
 "nbformat": 4,
 "nbformat_minor": 2
}
